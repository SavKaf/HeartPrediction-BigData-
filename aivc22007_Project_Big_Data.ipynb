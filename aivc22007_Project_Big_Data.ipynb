{
 "cells": [
  {
   "cell_type": "markdown",
   "id": "233cf945",
   "metadata": {
    "slideshow": {
     "slide_type": "-"
    }
   },
   "source": [
    "   # Project for Big Data Management and Visualization - 2023\n",
    "     Kaftantzis Savvas - aivc22007\n",
    "     Dataset: Predict Heart Disease with Logistic Regression\n",
    "     URL: https://www.kaggle.com/datasets/dileep070/heart-disease-prediction-using-logistic-regression?select=framingham.csv"
   ]
  },
  {
   "cell_type": "code",
   "execution_count": 1,
   "id": "0a7184f3",
   "metadata": {},
   "outputs": [],
   "source": [
    "# The classification goal is to predict whether the patient has 10-year risk of future coronary heart disease (CHD).\n",
    "# The dataset provides the patients’ information. It includes over 4.238 records and 15 attributes.\n",
    "# Each attribute is a potential risk factor. There are both demographic, behavioral and medical risk factors.\n",
    "# For CHD (10 year risk of coronary heart disease): '1' means 'Yes', '0' means 'No'."
   ]
  },
  {
   "cell_type": "code",
   "execution_count": 16,
   "id": "d91ca4c8",
   "metadata": {},
   "outputs": [],
   "source": [
    "import pandas as pd\n",
    "import matplotlib.pyplot as plt\n",
    "import seaborn as sns"
   ]
  },
  {
   "cell_type": "code",
   "execution_count": 17,
   "id": "a7a7c3fc",
   "metadata": {},
   "outputs": [],
   "source": [
    "df = pd.read_csv('dataset.csv')  # Import the csv File, using 'read_csv' Function from pandas Library"
   ]
  },
  {
   "cell_type": "code",
   "execution_count": 18,
   "id": "4fef33ef",
   "metadata": {},
   "outputs": [
    {
     "data": {
      "text/html": [
       "<div>\n",
       "<style scoped>\n",
       "    .dataframe tbody tr th:only-of-type {\n",
       "        vertical-align: middle;\n",
       "    }\n",
       "\n",
       "    .dataframe tbody tr th {\n",
       "        vertical-align: top;\n",
       "    }\n",
       "\n",
       "    .dataframe thead th {\n",
       "        text-align: right;\n",
       "    }\n",
       "</style>\n",
       "<table border=\"1\" class=\"dataframe\">\n",
       "  <thead>\n",
       "    <tr style=\"text-align: right;\">\n",
       "      <th></th>\n",
       "      <th>male</th>\n",
       "      <th>age</th>\n",
       "      <th>education</th>\n",
       "      <th>currentSmoker</th>\n",
       "      <th>cigsPerDay</th>\n",
       "      <th>BPMeds</th>\n",
       "      <th>prevalentStroke</th>\n",
       "      <th>prevalentHyp</th>\n",
       "      <th>diabetes</th>\n",
       "      <th>totChol</th>\n",
       "      <th>sysBP</th>\n",
       "      <th>diaBP</th>\n",
       "      <th>BMI</th>\n",
       "      <th>heartRate</th>\n",
       "      <th>glucose</th>\n",
       "      <th>TenYearCHD</th>\n",
       "    </tr>\n",
       "  </thead>\n",
       "  <tbody>\n",
       "    <tr>\n",
       "      <th>0</th>\n",
       "      <td>1</td>\n",
       "      <td>39</td>\n",
       "      <td>4.0</td>\n",
       "      <td>0</td>\n",
       "      <td>0.0</td>\n",
       "      <td>0.0</td>\n",
       "      <td>0</td>\n",
       "      <td>0</td>\n",
       "      <td>0</td>\n",
       "      <td>195.0</td>\n",
       "      <td>106.0</td>\n",
       "      <td>70.0</td>\n",
       "      <td>26.97</td>\n",
       "      <td>80.0</td>\n",
       "      <td>77.0</td>\n",
       "      <td>0</td>\n",
       "    </tr>\n",
       "    <tr>\n",
       "      <th>1</th>\n",
       "      <td>0</td>\n",
       "      <td>46</td>\n",
       "      <td>2.0</td>\n",
       "      <td>0</td>\n",
       "      <td>0.0</td>\n",
       "      <td>0.0</td>\n",
       "      <td>0</td>\n",
       "      <td>0</td>\n",
       "      <td>0</td>\n",
       "      <td>250.0</td>\n",
       "      <td>121.0</td>\n",
       "      <td>81.0</td>\n",
       "      <td>28.73</td>\n",
       "      <td>95.0</td>\n",
       "      <td>76.0</td>\n",
       "      <td>0</td>\n",
       "    </tr>\n",
       "    <tr>\n",
       "      <th>2</th>\n",
       "      <td>1</td>\n",
       "      <td>48</td>\n",
       "      <td>1.0</td>\n",
       "      <td>1</td>\n",
       "      <td>20.0</td>\n",
       "      <td>0.0</td>\n",
       "      <td>0</td>\n",
       "      <td>0</td>\n",
       "      <td>0</td>\n",
       "      <td>245.0</td>\n",
       "      <td>127.5</td>\n",
       "      <td>80.0</td>\n",
       "      <td>25.34</td>\n",
       "      <td>75.0</td>\n",
       "      <td>70.0</td>\n",
       "      <td>0</td>\n",
       "    </tr>\n",
       "    <tr>\n",
       "      <th>3</th>\n",
       "      <td>0</td>\n",
       "      <td>61</td>\n",
       "      <td>3.0</td>\n",
       "      <td>1</td>\n",
       "      <td>30.0</td>\n",
       "      <td>0.0</td>\n",
       "      <td>0</td>\n",
       "      <td>1</td>\n",
       "      <td>0</td>\n",
       "      <td>225.0</td>\n",
       "      <td>150.0</td>\n",
       "      <td>95.0</td>\n",
       "      <td>28.58</td>\n",
       "      <td>65.0</td>\n",
       "      <td>103.0</td>\n",
       "      <td>1</td>\n",
       "    </tr>\n",
       "    <tr>\n",
       "      <th>4</th>\n",
       "      <td>0</td>\n",
       "      <td>46</td>\n",
       "      <td>3.0</td>\n",
       "      <td>1</td>\n",
       "      <td>23.0</td>\n",
       "      <td>0.0</td>\n",
       "      <td>0</td>\n",
       "      <td>0</td>\n",
       "      <td>0</td>\n",
       "      <td>285.0</td>\n",
       "      <td>130.0</td>\n",
       "      <td>84.0</td>\n",
       "      <td>23.10</td>\n",
       "      <td>85.0</td>\n",
       "      <td>85.0</td>\n",
       "      <td>0</td>\n",
       "    </tr>\n",
       "  </tbody>\n",
       "</table>\n",
       "</div>"
      ],
      "text/plain": [
       "   male  age  education  currentSmoker  cigsPerDay  BPMeds  prevalentStroke  \\\n",
       "0     1   39        4.0              0         0.0     0.0                0   \n",
       "1     0   46        2.0              0         0.0     0.0                0   \n",
       "2     1   48        1.0              1        20.0     0.0                0   \n",
       "3     0   61        3.0              1        30.0     0.0                0   \n",
       "4     0   46        3.0              1        23.0     0.0                0   \n",
       "\n",
       "   prevalentHyp  diabetes  totChol  sysBP  diaBP    BMI  heartRate  glucose  \\\n",
       "0             0         0    195.0  106.0   70.0  26.97       80.0     77.0   \n",
       "1             0         0    250.0  121.0   81.0  28.73       95.0     76.0   \n",
       "2             0         0    245.0  127.5   80.0  25.34       75.0     70.0   \n",
       "3             1         0    225.0  150.0   95.0  28.58       65.0    103.0   \n",
       "4             0         0    285.0  130.0   84.0  23.10       85.0     85.0   \n",
       "\n",
       "   TenYearCHD  \n",
       "0           0  \n",
       "1           0  \n",
       "2           0  \n",
       "3           1  \n",
       "4           0  "
      ]
     },
     "execution_count": 18,
     "metadata": {},
     "output_type": "execute_result"
    }
   ],
   "source": [
    "df.head()  # Check the Head (First 5 rows)"
   ]
  },
  {
   "cell_type": "code",
   "execution_count": 19,
   "id": "c742b6ae",
   "metadata": {},
   "outputs": [
    {
     "data": {
      "text/plain": [
       "(4238, 16)"
      ]
     },
     "execution_count": 19,
     "metadata": {},
     "output_type": "execute_result"
    }
   ],
   "source": [
    "df.shape   # Number of Rows and Columns"
   ]
  },
  {
   "cell_type": "code",
   "execution_count": 20,
   "id": "ed26ce00",
   "metadata": {},
   "outputs": [
    {
     "name": "stdout",
     "output_type": "stream",
     "text": [
      "<class 'pandas.core.frame.DataFrame'>\n",
      "RangeIndex: 4238 entries, 0 to 4237\n",
      "Data columns (total 16 columns):\n",
      " #   Column           Non-Null Count  Dtype  \n",
      "---  ------           --------------  -----  \n",
      " 0   male             4238 non-null   int64  \n",
      " 1   age              4238 non-null   int64  \n",
      " 2   education        4133 non-null   float64\n",
      " 3   currentSmoker    4238 non-null   int64  \n",
      " 4   cigsPerDay       4209 non-null   float64\n",
      " 5   BPMeds           4185 non-null   float64\n",
      " 6   prevalentStroke  4238 non-null   int64  \n",
      " 7   prevalentHyp     4238 non-null   int64  \n",
      " 8   diabetes         4238 non-null   int64  \n",
      " 9   totChol          4188 non-null   float64\n",
      " 10  sysBP            4238 non-null   float64\n",
      " 11  diaBP            4238 non-null   float64\n",
      " 12  BMI              4219 non-null   float64\n",
      " 13  heartRate        4237 non-null   float64\n",
      " 14  glucose          3850 non-null   float64\n",
      " 15  TenYearCHD       4238 non-null   int64  \n",
      "dtypes: float64(9), int64(7)\n",
      "memory usage: 529.9 KB\n"
     ]
    }
   ],
   "source": [
    "df.info()  # Information about the DataFrame"
   ]
  },
  {
   "cell_type": "code",
   "execution_count": 21,
   "id": "90ced9dc",
   "metadata": {},
   "outputs": [
    {
     "data": {
      "text/html": [
       "<div>\n",
       "<style scoped>\n",
       "    .dataframe tbody tr th:only-of-type {\n",
       "        vertical-align: middle;\n",
       "    }\n",
       "\n",
       "    .dataframe tbody tr th {\n",
       "        vertical-align: top;\n",
       "    }\n",
       "\n",
       "    .dataframe thead th {\n",
       "        text-align: right;\n",
       "    }\n",
       "</style>\n",
       "<table border=\"1\" class=\"dataframe\">\n",
       "  <thead>\n",
       "    <tr style=\"text-align: right;\">\n",
       "      <th></th>\n",
       "      <th>count</th>\n",
       "      <th>mean</th>\n",
       "      <th>std</th>\n",
       "      <th>min</th>\n",
       "      <th>25%</th>\n",
       "      <th>50%</th>\n",
       "      <th>75%</th>\n",
       "      <th>max</th>\n",
       "    </tr>\n",
       "  </thead>\n",
       "  <tbody>\n",
       "    <tr>\n",
       "      <th>male</th>\n",
       "      <td>4238.0</td>\n",
       "      <td>0.429212</td>\n",
       "      <td>0.495022</td>\n",
       "      <td>0.00</td>\n",
       "      <td>0.00</td>\n",
       "      <td>0.0</td>\n",
       "      <td>1.000</td>\n",
       "      <td>1.0</td>\n",
       "    </tr>\n",
       "    <tr>\n",
       "      <th>age</th>\n",
       "      <td>4238.0</td>\n",
       "      <td>49.584946</td>\n",
       "      <td>8.572160</td>\n",
       "      <td>32.00</td>\n",
       "      <td>42.00</td>\n",
       "      <td>49.0</td>\n",
       "      <td>56.000</td>\n",
       "      <td>70.0</td>\n",
       "    </tr>\n",
       "    <tr>\n",
       "      <th>education</th>\n",
       "      <td>4133.0</td>\n",
       "      <td>1.978950</td>\n",
       "      <td>1.019791</td>\n",
       "      <td>1.00</td>\n",
       "      <td>1.00</td>\n",
       "      <td>2.0</td>\n",
       "      <td>3.000</td>\n",
       "      <td>4.0</td>\n",
       "    </tr>\n",
       "    <tr>\n",
       "      <th>currentSmoker</th>\n",
       "      <td>4238.0</td>\n",
       "      <td>0.494101</td>\n",
       "      <td>0.500024</td>\n",
       "      <td>0.00</td>\n",
       "      <td>0.00</td>\n",
       "      <td>0.0</td>\n",
       "      <td>1.000</td>\n",
       "      <td>1.0</td>\n",
       "    </tr>\n",
       "    <tr>\n",
       "      <th>cigsPerDay</th>\n",
       "      <td>4209.0</td>\n",
       "      <td>9.003089</td>\n",
       "      <td>11.920094</td>\n",
       "      <td>0.00</td>\n",
       "      <td>0.00</td>\n",
       "      <td>0.0</td>\n",
       "      <td>20.000</td>\n",
       "      <td>70.0</td>\n",
       "    </tr>\n",
       "    <tr>\n",
       "      <th>BPMeds</th>\n",
       "      <td>4185.0</td>\n",
       "      <td>0.029630</td>\n",
       "      <td>0.169584</td>\n",
       "      <td>0.00</td>\n",
       "      <td>0.00</td>\n",
       "      <td>0.0</td>\n",
       "      <td>0.000</td>\n",
       "      <td>1.0</td>\n",
       "    </tr>\n",
       "    <tr>\n",
       "      <th>prevalentStroke</th>\n",
       "      <td>4238.0</td>\n",
       "      <td>0.005899</td>\n",
       "      <td>0.076587</td>\n",
       "      <td>0.00</td>\n",
       "      <td>0.00</td>\n",
       "      <td>0.0</td>\n",
       "      <td>0.000</td>\n",
       "      <td>1.0</td>\n",
       "    </tr>\n",
       "    <tr>\n",
       "      <th>prevalentHyp</th>\n",
       "      <td>4238.0</td>\n",
       "      <td>0.310524</td>\n",
       "      <td>0.462763</td>\n",
       "      <td>0.00</td>\n",
       "      <td>0.00</td>\n",
       "      <td>0.0</td>\n",
       "      <td>1.000</td>\n",
       "      <td>1.0</td>\n",
       "    </tr>\n",
       "    <tr>\n",
       "      <th>diabetes</th>\n",
       "      <td>4238.0</td>\n",
       "      <td>0.025720</td>\n",
       "      <td>0.158316</td>\n",
       "      <td>0.00</td>\n",
       "      <td>0.00</td>\n",
       "      <td>0.0</td>\n",
       "      <td>0.000</td>\n",
       "      <td>1.0</td>\n",
       "    </tr>\n",
       "    <tr>\n",
       "      <th>totChol</th>\n",
       "      <td>4188.0</td>\n",
       "      <td>236.721585</td>\n",
       "      <td>44.590334</td>\n",
       "      <td>107.00</td>\n",
       "      <td>206.00</td>\n",
       "      <td>234.0</td>\n",
       "      <td>263.000</td>\n",
       "      <td>696.0</td>\n",
       "    </tr>\n",
       "    <tr>\n",
       "      <th>sysBP</th>\n",
       "      <td>4238.0</td>\n",
       "      <td>132.352407</td>\n",
       "      <td>22.038097</td>\n",
       "      <td>83.50</td>\n",
       "      <td>117.00</td>\n",
       "      <td>128.0</td>\n",
       "      <td>144.000</td>\n",
       "      <td>295.0</td>\n",
       "    </tr>\n",
       "    <tr>\n",
       "      <th>diaBP</th>\n",
       "      <td>4238.0</td>\n",
       "      <td>82.893464</td>\n",
       "      <td>11.910850</td>\n",
       "      <td>48.00</td>\n",
       "      <td>75.00</td>\n",
       "      <td>82.0</td>\n",
       "      <td>89.875</td>\n",
       "      <td>142.5</td>\n",
       "    </tr>\n",
       "    <tr>\n",
       "      <th>BMI</th>\n",
       "      <td>4219.0</td>\n",
       "      <td>25.802008</td>\n",
       "      <td>4.080111</td>\n",
       "      <td>15.54</td>\n",
       "      <td>23.07</td>\n",
       "      <td>25.4</td>\n",
       "      <td>28.040</td>\n",
       "      <td>56.8</td>\n",
       "    </tr>\n",
       "    <tr>\n",
       "      <th>heartRate</th>\n",
       "      <td>4237.0</td>\n",
       "      <td>75.878924</td>\n",
       "      <td>12.026596</td>\n",
       "      <td>44.00</td>\n",
       "      <td>68.00</td>\n",
       "      <td>75.0</td>\n",
       "      <td>83.000</td>\n",
       "      <td>143.0</td>\n",
       "    </tr>\n",
       "    <tr>\n",
       "      <th>glucose</th>\n",
       "      <td>3850.0</td>\n",
       "      <td>81.966753</td>\n",
       "      <td>23.959998</td>\n",
       "      <td>40.00</td>\n",
       "      <td>71.00</td>\n",
       "      <td>78.0</td>\n",
       "      <td>87.000</td>\n",
       "      <td>394.0</td>\n",
       "    </tr>\n",
       "    <tr>\n",
       "      <th>TenYearCHD</th>\n",
       "      <td>4238.0</td>\n",
       "      <td>0.151958</td>\n",
       "      <td>0.359023</td>\n",
       "      <td>0.00</td>\n",
       "      <td>0.00</td>\n",
       "      <td>0.0</td>\n",
       "      <td>0.000</td>\n",
       "      <td>1.0</td>\n",
       "    </tr>\n",
       "  </tbody>\n",
       "</table>\n",
       "</div>"
      ],
      "text/plain": [
       "                  count        mean        std     min     25%    50%  \\\n",
       "male             4238.0    0.429212   0.495022    0.00    0.00    0.0   \n",
       "age              4238.0   49.584946   8.572160   32.00   42.00   49.0   \n",
       "education        4133.0    1.978950   1.019791    1.00    1.00    2.0   \n",
       "currentSmoker    4238.0    0.494101   0.500024    0.00    0.00    0.0   \n",
       "cigsPerDay       4209.0    9.003089  11.920094    0.00    0.00    0.0   \n",
       "BPMeds           4185.0    0.029630   0.169584    0.00    0.00    0.0   \n",
       "prevalentStroke  4238.0    0.005899   0.076587    0.00    0.00    0.0   \n",
       "prevalentHyp     4238.0    0.310524   0.462763    0.00    0.00    0.0   \n",
       "diabetes         4238.0    0.025720   0.158316    0.00    0.00    0.0   \n",
       "totChol          4188.0  236.721585  44.590334  107.00  206.00  234.0   \n",
       "sysBP            4238.0  132.352407  22.038097   83.50  117.00  128.0   \n",
       "diaBP            4238.0   82.893464  11.910850   48.00   75.00   82.0   \n",
       "BMI              4219.0   25.802008   4.080111   15.54   23.07   25.4   \n",
       "heartRate        4237.0   75.878924  12.026596   44.00   68.00   75.0   \n",
       "glucose          3850.0   81.966753  23.959998   40.00   71.00   78.0   \n",
       "TenYearCHD       4238.0    0.151958   0.359023    0.00    0.00    0.0   \n",
       "\n",
       "                     75%    max  \n",
       "male               1.000    1.0  \n",
       "age               56.000   70.0  \n",
       "education          3.000    4.0  \n",
       "currentSmoker      1.000    1.0  \n",
       "cigsPerDay        20.000   70.0  \n",
       "BPMeds             0.000    1.0  \n",
       "prevalentStroke    0.000    1.0  \n",
       "prevalentHyp       1.000    1.0  \n",
       "diabetes           0.000    1.0  \n",
       "totChol          263.000  696.0  \n",
       "sysBP            144.000  295.0  \n",
       "diaBP             89.875  142.5  \n",
       "BMI               28.040   56.8  \n",
       "heartRate         83.000  143.0  \n",
       "glucose           87.000  394.0  \n",
       "TenYearCHD         0.000    1.0  "
      ]
     },
     "execution_count": 21,
     "metadata": {},
     "output_type": "execute_result"
    }
   ],
   "source": [
    "df.describe().transpose() # Returns a summarized statistics of the series"
   ]
  },
  {
   "cell_type": "code",
   "execution_count": 22,
   "id": "54555ab1",
   "metadata": {},
   "outputs": [
    {
     "data": {
      "text/plain": [
       "male                 0\n",
       "age                  0\n",
       "education          105\n",
       "currentSmoker        0\n",
       "cigsPerDay          29\n",
       "BPMeds              53\n",
       "prevalentStroke      0\n",
       "prevalentHyp         0\n",
       "diabetes             0\n",
       "totChol             50\n",
       "sysBP                0\n",
       "diaBP                0\n",
       "BMI                 19\n",
       "heartRate            1\n",
       "glucose            388\n",
       "TenYearCHD           0\n",
       "dtype: int64"
      ]
     },
     "execution_count": 22,
     "metadata": {},
     "output_type": "execute_result"
    }
   ],
   "source": [
    "# Check if we have got null values\n",
    "df.isnull().sum()"
   ]
  },
  {
   "cell_type": "code",
   "execution_count": 23,
   "id": "beb24d41",
   "metadata": {},
   "outputs": [
    {
     "data": {
      "text/plain": [
       "<Axes: >"
      ]
     },
     "execution_count": 23,
     "metadata": {},
     "output_type": "execute_result"
    },
    {
     "data": {
      "image/png": "[encoded data removed]",
      "text/plain": [
       "<Figure size 640x480 with 1 Axes>"
      ]
     },
     "metadata": {},
     "output_type": "display_data"
    }
   ],
   "source": [
    "# Let's Visualize it, just to have it in a plot. \n",
    "# The most NA Values are in 'glucose' column.\n",
    "sns.heatmap(df.isnull(),yticklabels=False,cbar=False,cmap='viridis')"
   ]
  },
  {
   "cell_type": "markdown",
   "id": "54e9640e",
   "metadata": {},
   "source": [
    "."
   ]
  },
  {
   "cell_type": "markdown",
   "id": "3b52fd30",
   "metadata": {},
   "source": [
    "# We will let the missing values as it is and we won't use the average of the values in each column or anything else, but leave them as they are and run the algorithms with the exact data we have. Τhis means that we will have to use some methods so that the algorithms run correctly, as we will see below."
   ]
  },
  {
   "cell_type": "markdown",
   "id": "75def953",
   "metadata": {},
   "source": [
    "."
   ]
  },
  {
   "cell_type": "markdown",
   "id": "40759d34",
   "metadata": {},
   "source": [
    "# Visualizations"
   ]
  },
  {
   "cell_type": "markdown",
   "id": "91be6b64",
   "metadata": {},
   "source": [
    "Let's continue on by visualizing some more of the data to se more info about them!"
   ]
  },
  {
   "cell_type": "code",
   "execution_count": 24,
   "id": "615c0333",
   "metadata": {},
   "outputs": [
    {
     "data": {
      "text/plain": [
       "<Axes: title={'center': 'Gender'}, xlabel='male', ylabel='count'>"
      ]
     },
     "execution_count": 24,
     "metadata": {},
     "output_type": "execute_result"
    },
    {
     "data": {
      "image/png": "[encoded data removed]",
      "text/plain": [
       "<Figure size 640x480 with 1 Axes>"
      ]
     },
     "metadata": {},
     "output_type": "display_data"
    }
   ],
   "source": [
    "plt.title('Gender')\n",
    "sns.countplot(data=df,x='male',hue='TenYearCHD')"
   ]
  },
  {
   "cell_type": "markdown",
   "id": "228e7c41",
   "metadata": {},
   "source": [
    "We can see that we have a larger number of women who don't have heart disease, than men."
   ]
  },
  {
   "cell_type": "code",
   "execution_count": 25,
   "id": "7469fcb7",
   "metadata": {},
   "outputs": [
    {
     "data": {
      "text/plain": [
       "<Axes: title={'center': 'Whether or not the patient had previously had a stroke'}, xlabel='prevalentStroke', ylabel='count'>"
      ]
     },
     "execution_count": 25,
     "metadata": {},
     "output_type": "execute_result"
    },
    {
     "data": {
      "image/png": "[encoded data removed]",
      "text/plain": [
       "<Figure size 640x480 with 1 Axes>"
      ]
     },
     "metadata": {},
     "output_type": "display_data"
    }
   ],
   "source": [
    "plt.title('Whether or not the patient had previously had a stroke')\n",
    "sns.countplot(data=df,x='prevalentStroke')"
   ]
  },
  {
   "cell_type": "markdown",
   "id": "0c73b7cc",
   "metadata": {},
   "source": [
    "So we mainly got, non stroke patients."
   ]
  },
  {
   "cell_type": "code",
   "execution_count": 26,
   "id": "e62b12d1",
   "metadata": {},
   "outputs": [
    {
     "data": {
      "text/plain": [
       "<Axes: title={'center': 'CHD by Age'}, xlabel='age', ylabel='count'>"
      ]
     },
     "execution_count": 26,
     "metadata": {},
     "output_type": "execute_result"
    },
    {
     "data": {
      "image/png": "[encoded data removed]",
      "text/plain": [
       "<Figure size 1300x600 with 1 Axes>"
      ]
     },
     "metadata": {},
     "output_type": "display_data"
    }
   ],
   "source": [
    "plt.figure(figsize=(13,6))\n",
    "plt.title('CHD by Age')\n",
    "sns.countplot(data=df,x='age',hue='TenYearCHD')"
   ]
  },
  {
   "cell_type": "markdown",
   "id": "b80e6bb4",
   "metadata": {},
   "source": [
    "The age is between 32 and 70 year's old. And we can take a look in statistics by age"
   ]
  },
  {
   "cell_type": "code",
   "execution_count": 27,
   "id": "fe50f247",
   "metadata": {},
   "outputs": [
    {
     "data": {
      "text/plain": [
       "<Axes: title={'center': 'CHD by Hypertensive'}, xlabel='prevalentHyp', ylabel='count'>"
      ]
     },
     "execution_count": 27,
     "metadata": {},
     "output_type": "execute_result"
    },
    {
     "data": {
      "image/png": "[encoded data removed]",
      "text/plain": [
       "<Figure size 640x480 with 1 Axes>"
      ]
     },
     "metadata": {},
     "output_type": "display_data"
    }
   ],
   "source": [
    "plt.title('CHD by Hypertensive')\n",
    "sns.countplot(data=df,x='prevalentHyp',hue='TenYearCHD')"
   ]
  },
  {
   "cell_type": "code",
   "execution_count": 28,
   "id": "d7e786d5",
   "metadata": {},
   "outputs": [
    {
     "data": {
      "text/plain": [
       "<Axes: title={'center': 'The number of cigarettes that the person smoked on average in one day'}, xlabel='count', ylabel='cigsPerDay'>"
      ]
     },
     "execution_count": 28,
     "metadata": {},
     "output_type": "execute_result"
    },
    {
     "data": {
      "image/png": "[encoded data removed]",
      "text/plain": [
       "<Figure size 640x480 with 1 Axes>"
      ]
     },
     "metadata": {},
     "output_type": "display_data"
    }
   ],
   "source": [
    "plt.title('The number of cigarettes that the person smoked on average in one day')\n",
    "sns.countplot(data=df,y='cigsPerDay')"
   ]
  },
  {
   "cell_type": "markdown",
   "id": "f8c5d9ef",
   "metadata": {},
   "source": [
    "So we see that the patients basically either don't smoke any cigarettes, or smoke 15-20 cigarettes a day."
   ]
  },
  {
   "cell_type": "code",
   "execution_count": 29,
   "id": "b9b3388f",
   "metadata": {},
   "outputs": [
    {
     "data": {
      "text/plain": [
       "<Axes: title={'center': 'Whether or not the patient had diabetes and CHD'}, xlabel='diabetes', ylabel='count'>"
      ]
     },
     "execution_count": 29,
     "metadata": {},
     "output_type": "execute_result"
    },
    {
     "data": {
      "image/png": "[encoded data removed]",
      "text/plain": [
       "<Figure size 640x480 with 1 Axes>"
      ]
     },
     "metadata": {},
     "output_type": "display_data"
    }
   ],
   "source": [
    "plt.title('Whether or not the patient had diabetes and CHD')\n",
    "sns.countplot(data=df,x='diabetes',hue='TenYearCHD')"
   ]
  },
  {
   "cell_type": "code",
   "execution_count": 30,
   "id": "f62c0c86",
   "metadata": {},
   "outputs": [
    {
     "data": {
      "text/plain": [
       "<seaborn.axisgrid.FacetGrid at 0x228c38685b0>"
      ]
     },
     "execution_count": 30,
     "metadata": {},
     "output_type": "execute_result"
    },
    {
     "data": {
      "image/png": "[encoded data removed]",
      "text/plain": [
       "<Figure size 500x500 with 1 Axes>"
      ]
     },
     "metadata": {},
     "output_type": "display_data"
    }
   ],
   "source": [
    "df['totChol'].mean()\n",
    "sns.displot(x='totChol',data=df,kde=True)"
   ]
  },
  {
   "cell_type": "code",
   "execution_count": 31,
   "id": "00bf9400",
   "metadata": {},
   "outputs": [
    {
     "data": {
      "text/plain": [
       "<Axes: title={'center': '10 year risk of coronary heart disease CHD (1=Yes/0=No)'}, xlabel='TenYearCHD', ylabel='count'>"
      ]
     },
     "execution_count": 31,
     "metadata": {},
     "output_type": "execute_result"
    },
    {
     "data": {
      "image/png": "[encoded data removed]",
      "text/plain": [
       "<Figure size 640x480 with 1 Axes>"
      ]
     },
     "metadata": {},
     "output_type": "display_data"
    }
   ],
   "source": [
    "plt.title('10 year risk of coronary heart disease CHD (1=Yes/0=No)')\n",
    "sns.countplot(data=df,x='TenYearCHD')"
   ]
  },
  {
   "cell_type": "markdown",
   "id": "5430fa0b",
   "metadata": {},
   "source": [
    "We have a bigger team that they don't have CHD."
   ]
  },
  {
   "cell_type": "markdown",
   "id": "d079b5a8",
   "metadata": {},
   "source": [
    "# Correlation"
   ]
  },
  {
   "cell_type": "code",
   "execution_count": 32,
   "id": "3d62592e",
   "metadata": {},
   "outputs": [
    {
     "data": {
      "text/plain": [
       "age                0.225256\n",
       "sysBP              0.216429\n",
       "prevalentHyp       0.177603\n",
       "diaBP              0.145299\n",
       "glucose            0.125544\n",
       "diabetes           0.097317\n",
       "male               0.088428\n",
       "BPMeds             0.087489\n",
       "totChol            0.082184\n",
       "BMI                0.075192\n",
       "prevalentStroke    0.061810\n",
       "cigsPerDay         0.057884\n",
       "heartRate          0.022913\n",
       "currentSmoker      0.019456\n",
       "education         -0.054059\n",
       "Name: TenYearCHD, dtype: float64"
      ]
     },
     "execution_count": 32,
     "metadata": {},
     "output_type": "execute_result"
    }
   ],
   "source": [
    "# This method calculates the relationship between each column in our data set.\n",
    "\n",
    "df.corr()['TenYearCHD'][:-1].sort_values(ascending=False)"
   ]
  },
  {
   "cell_type": "code",
   "execution_count": 33,
   "id": "7dc10ada",
   "metadata": {},
   "outputs": [
    {
     "data": {
      "text/plain": [
       "<Axes: >"
      ]
     },
     "execution_count": 33,
     "metadata": {},
     "output_type": "execute_result"
    },
    {
     "data": {
      "image/png": "[encoded data removed]",
      "text/plain": [
       "<Figure size 640x480 with 1 Axes>"
      ]
     },
     "metadata": {},
     "output_type": "display_data"
    }
   ],
   "source": [
    "#Plot this correlation\n",
    "df.corr()['TenYearCHD'][:-1].plot(kind='bar')"
   ]
  },
  {
   "cell_type": "markdown",
   "id": "7a28facf",
   "metadata": {},
   "source": [
    "."
   ]
  },
  {
   "cell_type": "markdown",
   "id": "9bcd84ff",
   "metadata": {},
   "source": [
    "# Building a Logistic Regression model"
   ]
  },
  {
   "cell_type": "markdown",
   "id": "c2fb8c15",
   "metadata": {},
   "source": [
    "Let's start by splitting our data into a training set and test set. (We have Binary logistic regression)"
   ]
  },
  {
   "cell_type": "code",
   "execution_count": 34,
   "id": "df73ed7c",
   "metadata": {},
   "outputs": [],
   "source": [
    "from sklearn.model_selection import train_test_split"
   ]
  },
  {
   "cell_type": "code",
   "execution_count": 35,
   "id": "e567bc6c",
   "metadata": {},
   "outputs": [],
   "source": [
    "# y is the value we want to make the prediction\n",
    "X = df.drop('TenYearCHD',axis=1) # independent variables  \n",
    "y = df['TenYearCHD']             # dependent variable"
   ]
  },
  {
   "cell_type": "code",
   "execution_count": 36,
   "id": "bdf127d6",
   "metadata": {},
   "outputs": [],
   "source": [
    "# We split the data into random training and test set.\n",
    "X_train, X_test, y_train, y_test = train_test_split(X, y, test_size=0.3, random_state=101) "
   ]
  },
  {
   "cell_type": "code",
   "execution_count": 37,
   "id": "10bade8e",
   "metadata": {},
   "outputs": [],
   "source": [
    "from sklearn.linear_model import LogisticRegression\n",
    "from sklearn.impute import SimpleImputer"
   ]
  },
  {
   "cell_type": "code",
   "execution_count": 38,
   "id": "b9c76fab",
   "metadata": {},
   "outputs": [],
   "source": [
    "# Imputer for completing missing values with simple strategies\n",
    "# We select a strategy to ignore missing values\n",
    "\n",
    "imputer = SimpleImputer(strategy='constant', fill_value=None) "
   ]
  },
  {
   "cell_type": "markdown",
   "id": "b4d6242c",
   "metadata": {},
   "source": [
    "Fit and transform the training set"
   ]
  },
  {
   "cell_type": "code",
   "execution_count": 39,
   "id": "dbdddc00",
   "metadata": {},
   "outputs": [],
   "source": [
    "X_train_imputed = imputer.fit_transform(X_train)"
   ]
  },
  {
   "cell_type": "code",
   "execution_count": 40,
   "id": "c4cbb20d",
   "metadata": {},
   "outputs": [],
   "source": [
    "X_test_imputed = imputer.transform(X_test)"
   ]
  },
  {
   "cell_type": "markdown",
   "id": "7f132f36",
   "metadata": {},
   "source": [
    "Train and fit a logistic regression model on the training set"
   ]
  },
  {
   "cell_type": "code",
   "execution_count": 41,
   "id": "cb0d2f0e",
   "metadata": {},
   "outputs": [],
   "source": [
    "# Because i got warning message \n",
    "#'You received indicates that the logistic regression model reached the maximum number of iterations before convergence'\n",
    "# I will Increase the maximum number of iterations and\n",
    "# Try a different solver\n",
    "# I will choose 'liblinear' which is a linear classifier for large-scale machine learning tasks.\n",
    "\n",
    "log = LogisticRegression(max_iter=1000,solver='liblinear')  "
   ]
  },
  {
   "cell_type": "code",
   "execution_count": 42,
   "id": "17064747",
   "metadata": {},
   "outputs": [
    {
     "data": {
      "text/html": [
       "<style>#sk-container-id-2 {color: black;background-color: white;}#sk-container-id-2 pre{padding: 0;}#sk-container-id-2 div.sk-toggleable {background-color: white;}#sk-container-id-2 label.sk-toggleable__label {cursor: pointer;display: block;width: 100%;margin-bottom: 0;padding: 0.3em;box-sizing: border-box;text-align: center;}#sk-container-id-2 label.sk-toggleable__label-arrow:before {content: \"▸\";float: left;margin-right: 0.25em;color: #696969;}#sk-container-id-2 label.sk-toggleable__label-arrow:hover:before {color: black;}#sk-container-id-2 div.sk-estimator:hover label.sk-toggleable__label-arrow:before {color: black;}#sk-container-id-2 div.sk-toggleable__content {max-height: 0;max-width: 0;overflow: hidden;text-align: left;background-color: #f0f8ff;}#sk-container-id-2 div.sk-toggleable__content pre {margin: 0.2em;color: black;border-radius: 0.25em;background-color: #f0f8ff;}#sk-container-id-2 input.sk-toggleable__control:checked~div.sk-toggleable__content {max-height: 200px;max-width: 100%;overflow: auto;}#sk-container-id-2 input.sk-toggleable__control:checked~label.sk-toggleable__label-arrow:before {content: \"▾\";}#sk-container-id-2 div.sk-estimator input.sk-toggleable__control:checked~label.sk-toggleable__label {background-color: #d4ebff;}#sk-container-id-2 div.sk-label input.sk-toggleable__control:checked~label.sk-toggleable__label {background-color: #d4ebff;}#sk-container-id-2 input.sk-hidden--visually {border: 0;clip: rect(1px 1px 1px 1px);clip: rect(1px, 1px, 1px, 1px);height: 1px;margin: -1px;overflow: hidden;padding: 0;position: absolute;width: 1px;}#sk-container-id-2 div.sk-estimator {font-family: monospace;background-color: #f0f8ff;border: 1px dotted black;border-radius: 0.25em;box-sizing: border-box;margin-bottom: 0.5em;}#sk-container-id-2 div.sk-estimator:hover {background-color: #d4ebff;}#sk-container-id-2 div.sk-parallel-item::after {content: \"\";width: 100%;border-bottom: 1px solid gray;flex-grow: 1;}#sk-container-id-2 div.sk-label:hover label.sk-toggleable__label {background-color: #d4ebff;}#sk-container-id-2 div.sk-serial::before {content: \"\";position: absolute;border-left: 1px solid gray;box-sizing: border-box;top: 0;bottom: 0;left: 50%;z-index: 0;}#sk-container-id-2 div.sk-serial {display: flex;flex-direction: column;align-items: center;background-color: white;padding-right: 0.2em;padding-left: 0.2em;position: relative;}#sk-container-id-2 div.sk-item {position: relative;z-index: 1;}#sk-container-id-2 div.sk-parallel {display: flex;align-items: stretch;justify-content: center;background-color: white;position: relative;}#sk-container-id-2 div.sk-item::before, #sk-container-id-2 div.sk-parallel-item::before {content: \"\";position: absolute;border-left: 1px solid gray;box-sizing: border-box;top: 0;bottom: 0;left: 50%;z-index: -1;}#sk-container-id-2 div.sk-parallel-item {display: flex;flex-direction: column;z-index: 1;position: relative;background-color: white;}#sk-container-id-2 div.sk-parallel-item:first-child::after {align-self: flex-end;width: 50%;}#sk-container-id-2 div.sk-parallel-item:last-child::after {align-self: flex-start;width: 50%;}#sk-container-id-2 div.sk-parallel-item:only-child::after {width: 0;}#sk-container-id-2 div.sk-dashed-wrapped {border: 1px dashed gray;margin: 0 0.4em 0.5em 0.4em;box-sizing: border-box;padding-bottom: 0.4em;background-color: white;}#sk-container-id-2 div.sk-label label {font-family: monospace;font-weight: bold;display: inline-block;line-height: 1.2em;}#sk-container-id-2 div.sk-label-container {text-align: center;}#sk-container-id-2 div.sk-container {/* jupyter's `normalize.less` sets `[hidden] { display: none; }` but bootstrap.min.css set `[hidden] { display: none !important; }` so we also need the `!important` here to be able to override the default hidden behavior on the sphinx rendered scikit-learn.org. See: https://github.com/scikit-learn/scikit-learn/issues/21755 */display: inline-block !important;position: relative;}#sk-container-id-2 div.sk-text-repr-fallback {display: none;}</style><div id=\"sk-container-id-2\" class=\"sk-top-container\"><div class=\"sk-text-repr-fallback\"><pre>LogisticRegression(max_iter=1000, solver=&#x27;liblinear&#x27;)</pre><b>In a Jupyter environment, please rerun this cell to show the HTML representation or trust the notebook. <br />On GitHub, the HTML representation is unable to render, please try loading this page with nbviewer.org.</b></div><div class=\"sk-container\" hidden><div class=\"sk-item\"><div class=\"sk-estimator sk-toggleable\"><input class=\"sk-toggleable__control sk-hidden--visually\" id=\"sk-estimator-id-2\" type=\"checkbox\" checked><label for=\"sk-estimator-id-2\" class=\"sk-toggleable__label sk-toggleable__label-arrow\">LogisticRegression</label><div class=\"sk-toggleable__content\"><pre>LogisticRegression(max_iter=1000, solver=&#x27;liblinear&#x27;)</pre></div></div></div></div></div>"
      ],
      "text/plain": [
       "LogisticRegression(max_iter=1000, solver='liblinear')"
      ]
     },
     "execution_count": 42,
     "metadata": {},
     "output_type": "execute_result"
    }
   ],
   "source": [
    "log.fit(X_train_imputed,y_train) # The fit() method trains the logistic regression model on the provided training data, \n",
    "                                 # learning the optimal coefficients that minimize the logistic loss function."
   ]
  },
  {
   "cell_type": "markdown",
   "id": "54c12af3",
   "metadata": {},
   "source": [
    "Now predict values for the testing data."
   ]
  },
  {
   "cell_type": "code",
   "execution_count": 43,
   "id": "91a5b1af",
   "metadata": {},
   "outputs": [],
   "source": [
    "predictions = log.predict(X_test_imputed) # Make predictions using X_test_imputed"
   ]
  },
  {
   "cell_type": "markdown",
   "id": "0a9f52a9",
   "metadata": {},
   "source": [
    "Create a classification report for the model"
   ]
  },
  {
   "cell_type": "code",
   "execution_count": 44,
   "id": "2ba88328",
   "metadata": {},
   "outputs": [],
   "source": [
    "from sklearn.metrics import classification_report, confusion_matrix, accuracy_score"
   ]
  },
  {
   "cell_type": "code",
   "execution_count": 45,
   "id": "02ed82c3",
   "metadata": {},
   "outputs": [
    {
     "name": "stdout",
     "output_type": "stream",
     "text": [
      "              precision    recall  f1-score   support\n",
      "\n",
      "           0       0.87      0.99      0.93      1097\n",
      "           1       0.52      0.07      0.13       175\n",
      "\n",
      "    accuracy                           0.86      1272\n",
      "   macro avg       0.70      0.53      0.53      1272\n",
      "weighted avg       0.82      0.86      0.82      1272\n",
      "\n"
     ]
    }
   ],
   "source": [
    "# Used to show the precision, recall, F1 Score\n",
    "print(classification_report(y_test,predictions))"
   ]
  },
  {
   "cell_type": "markdown",
   "id": "fb2e3252",
   "metadata": {},
   "source": [
    "  - Precision: It is a measure of correctness that is achieved in true prediction. How many predictions are actually positive out of all the total positive predicted.\n",
    "  - Recall: How many observations of positive class are actually predicted as positive.\n",
    "  - F-measure / F1-Score: F1 score sort of maintains a balance between the precision and recall for your classifier. If your precision is low, the F1 is low and if the recall is low again your F1 score is low."
   ]
  },
  {
   "cell_type": "code",
   "execution_count": 46,
   "id": "7a9a9c3a",
   "metadata": {},
   "outputs": [
    {
     "name": "stdout",
     "output_type": "stream",
     "text": [
      "Confusion matrix \n",
      " [[1085   12]\n",
      " [ 162   13]]\n"
     ]
    }
   ],
   "source": [
    "#Used for evaluating the performance of a classification mode\n",
    "df_matrix = confusion_matrix(y_test,predictions)\n",
    "print('Confusion matrix \\n', df_matrix)"
   ]
  },
  {
   "cell_type": "markdown",
   "id": "cdd0f690",
   "metadata": {},
   "source": [
    "    True Positive(TP)   =  1085   [The predicted value is Posotive and it's Positive]\n",
    "    False Positive(FP)  =  12     [The predicted value is Posotive but is False - Type I Error]\n",
    "    True Negative(TN)   =  13     [The predicted value is Negative and it's Negative]\n",
    "    False Negative(FN)  =  162    [The predicted value is Negative but it's Positive - Type II Error]"
   ]
  },
  {
   "cell_type": "markdown",
   "id": "2f6f8295",
   "metadata": {},
   "source": [
    "Confusion Matrix --> Heatmap"
   ]
  },
  {
   "cell_type": "code",
   "execution_count": 47,
   "id": "1b8203f1",
   "metadata": {},
   "outputs": [
    {
     "data": {
      "text/plain": [
       "<Axes: >"
      ]
     },
     "execution_count": 47,
     "metadata": {},
     "output_type": "execute_result"
    },
    {
     "data": {
      "image/png": "[encoded data removed]",
      "text/plain": [
       "<Figure size 640x480 with 2 Axes>"
      ]
     },
     "metadata": {},
     "output_type": "display_data"
    }
   ],
   "source": [
    "sns.heatmap(df_matrix,cmap='coolwarm',annot=True,linewidths=1,fmt='d')"
   ]
  },
  {
   "cell_type": "code",
   "execution_count": 48,
   "id": "db9b595e",
   "metadata": {},
   "outputs": [
    {
     "name": "stdout",
     "output_type": "stream",
     "text": [
      "0.8632075471698113\n"
     ]
    }
   ],
   "source": [
    "# Measure the model performance of all the predictions made\n",
    "\n",
    "logistic_regression_accuracy = accuracy_score(y_test,predictions)\n",
    "print(logistic_regression_accuracy)"
   ]
  },
  {
   "cell_type": "markdown",
   "id": "525ccce6",
   "metadata": {},
   "source": [
    "    It is a measure of correctness that is achieved in true prediction.\n",
    "\n",
    "   - Accuracy = (TP+TN) / (TP+TN+FP+FN) = Correct Predictions / Total Predictions = 86%"
   ]
  },
  {
   "cell_type": "markdown",
   "id": "c72234da",
   "metadata": {},
   "source": [
    "."
   ]
  },
  {
   "cell_type": "markdown",
   "id": "bbe9a8fe",
   "metadata": {},
   "source": [
    "."
   ]
  },
  {
   "cell_type": "markdown",
   "id": "e5d9f7a0",
   "metadata": {},
   "source": [
    "# K Nearest Neighbors Project - Solution"
   ]
  },
  {
   "cell_type": "markdown",
   "id": "16ec94b6",
   "metadata": {},
   "source": [
    "Let's now make classifications, predictions with kNN algorithm and comparison with the above model, Logistic Regression."
   ]
  },
  {
   "cell_type": "markdown",
   "id": "07915fee",
   "metadata": {},
   "source": [
    "- Let's first Standardize the Variables\n",
    "\n",
    "Because the KNN classifier predicts the class of a given test observation by identifying the observations that are nearest to it, the scale of the variables matters. Any variables that are on a large scale will have a much larger effect on the distance between the observations, and hence on the KNN classifier, than variables that are on a small scale."
   ]
  },
  {
   "cell_type": "code",
   "execution_count": 49,
   "id": "f76b46da",
   "metadata": {},
   "outputs": [],
   "source": [
    "from sklearn.preprocessing import StandardScaler"
   ]
  },
  {
   "cell_type": "code",
   "execution_count": 50,
   "id": "1cd023fb",
   "metadata": {},
   "outputs": [],
   "source": [
    "# StandardScaler standardizes a feature by subtracting the mean and then scaling to unit variance.\n",
    "# Unit variance means dividing all the values by the standard deviation.\n",
    "\n",
    "#Create an instance of StandardScaler\n",
    "\n",
    "scaler = StandardScaler() "
   ]
  },
  {
   "cell_type": "code",
   "execution_count": 51,
   "id": "96d1289e",
   "metadata": {},
   "outputs": [
    {
     "data": {
      "text/html": [
       "<style>#sk-container-id-3 {color: black;background-color: white;}#sk-container-id-3 pre{padding: 0;}#sk-container-id-3 div.sk-toggleable {background-color: white;}#sk-container-id-3 label.sk-toggleable__label {cursor: pointer;display: block;width: 100%;margin-bottom: 0;padding: 0.3em;box-sizing: border-box;text-align: center;}#sk-container-id-3 label.sk-toggleable__label-arrow:before {content: \"▸\";float: left;margin-right: 0.25em;color: #696969;}#sk-container-id-3 label.sk-toggleable__label-arrow:hover:before {color: black;}#sk-container-id-3 div.sk-estimator:hover label.sk-toggleable__label-arrow:before {color: black;}#sk-container-id-3 div.sk-toggleable__content {max-height: 0;max-width: 0;overflow: hidden;text-align: left;background-color: #f0f8ff;}#sk-container-id-3 div.sk-toggleable__content pre {margin: 0.2em;color: black;border-radius: 0.25em;background-color: #f0f8ff;}#sk-container-id-3 input.sk-toggleable__control:checked~div.sk-toggleable__content {max-height: 200px;max-width: 100%;overflow: auto;}#sk-container-id-3 input.sk-toggleable__control:checked~label.sk-toggleable__label-arrow:before {content: \"▾\";}#sk-container-id-3 div.sk-estimator input.sk-toggleable__control:checked~label.sk-toggleable__label {background-color: #d4ebff;}#sk-container-id-3 div.sk-label input.sk-toggleable__control:checked~label.sk-toggleable__label {background-color: #d4ebff;}#sk-container-id-3 input.sk-hidden--visually {border: 0;clip: rect(1px 1px 1px 1px);clip: rect(1px, 1px, 1px, 1px);height: 1px;margin: -1px;overflow: hidden;padding: 0;position: absolute;width: 1px;}#sk-container-id-3 div.sk-estimator {font-family: monospace;background-color: #f0f8ff;border: 1px dotted black;border-radius: 0.25em;box-sizing: border-box;margin-bottom: 0.5em;}#sk-container-id-3 div.sk-estimator:hover {background-color: #d4ebff;}#sk-container-id-3 div.sk-parallel-item::after {content: \"\";width: 100%;border-bottom: 1px solid gray;flex-grow: 1;}#sk-container-id-3 div.sk-label:hover label.sk-toggleable__label {background-color: #d4ebff;}#sk-container-id-3 div.sk-serial::before {content: \"\";position: absolute;border-left: 1px solid gray;box-sizing: border-box;top: 0;bottom: 0;left: 50%;z-index: 0;}#sk-container-id-3 div.sk-serial {display: flex;flex-direction: column;align-items: center;background-color: white;padding-right: 0.2em;padding-left: 0.2em;position: relative;}#sk-container-id-3 div.sk-item {position: relative;z-index: 1;}#sk-container-id-3 div.sk-parallel {display: flex;align-items: stretch;justify-content: center;background-color: white;position: relative;}#sk-container-id-3 div.sk-item::before, #sk-container-id-3 div.sk-parallel-item::before {content: \"\";position: absolute;border-left: 1px solid gray;box-sizing: border-box;top: 0;bottom: 0;left: 50%;z-index: -1;}#sk-container-id-3 div.sk-parallel-item {display: flex;flex-direction: column;z-index: 1;position: relative;background-color: white;}#sk-container-id-3 div.sk-parallel-item:first-child::after {align-self: flex-end;width: 50%;}#sk-container-id-3 div.sk-parallel-item:last-child::after {align-self: flex-start;width: 50%;}#sk-container-id-3 div.sk-parallel-item:only-child::after {width: 0;}#sk-container-id-3 div.sk-dashed-wrapped {border: 1px dashed gray;margin: 0 0.4em 0.5em 0.4em;box-sizing: border-box;padding-bottom: 0.4em;background-color: white;}#sk-container-id-3 div.sk-label label {font-family: monospace;font-weight: bold;display: inline-block;line-height: 1.2em;}#sk-container-id-3 div.sk-label-container {text-align: center;}#sk-container-id-3 div.sk-container {/* jupyter's `normalize.less` sets `[hidden] { display: none; }` but bootstrap.min.css set `[hidden] { display: none !important; }` so we also need the `!important` here to be able to override the default hidden behavior on the sphinx rendered scikit-learn.org. See: https://github.com/scikit-learn/scikit-learn/issues/21755 */display: inline-block !important;position: relative;}#sk-container-id-3 div.sk-text-repr-fallback {display: none;}</style><div id=\"sk-container-id-3\" class=\"sk-top-container\"><div class=\"sk-text-repr-fallback\"><pre>StandardScaler()</pre><b>In a Jupyter environment, please rerun this cell to show the HTML representation or trust the notebook. <br />On GitHub, the HTML representation is unable to render, please try loading this page with nbviewer.org.</b></div><div class=\"sk-container\" hidden><div class=\"sk-item\"><div class=\"sk-estimator sk-toggleable\"><input class=\"sk-toggleable__control sk-hidden--visually\" id=\"sk-estimator-id-3\" type=\"checkbox\" checked><label for=\"sk-estimator-id-3\" class=\"sk-toggleable__label sk-toggleable__label-arrow\">StandardScaler</label><div class=\"sk-toggleable__content\"><pre>StandardScaler()</pre></div></div></div></div></div>"
      ],
      "text/plain": [
       "StandardScaler()"
      ]
     },
     "execution_count": 51,
     "metadata": {},
     "output_type": "execute_result"
    }
   ],
   "source": [
    "# Fit the scaler to your data (calculate mean and standard deviation)\n",
    "scaler.fit(df.drop('TenYearCHD',axis=1))"
   ]
  },
  {
   "cell_type": "code",
   "execution_count": 52,
   "id": "976545ec",
   "metadata": {},
   "outputs": [],
   "source": [
    "scaled_features = scaler.transform(df.drop('TenYearCHD',axis=1)) # I transform only the columns i want (X), except the column\n",
    "                                                                 # that i want to predict"
   ]
  },
  {
   "cell_type": "code",
   "execution_count": 53,
   "id": "85b76a93",
   "metadata": {},
   "outputs": [
    {
     "data": {
      "text/html": [
       "<div>\n",
       "<style scoped>\n",
       "    .dataframe tbody tr th:only-of-type {\n",
       "        vertical-align: middle;\n",
       "    }\n",
       "\n",
       "    .dataframe tbody tr th {\n",
       "        vertical-align: top;\n",
       "    }\n",
       "\n",
       "    .dataframe thead th {\n",
       "        text-align: right;\n",
       "    }\n",
       "</style>\n",
       "<table border=\"1\" class=\"dataframe\">\n",
       "  <thead>\n",
       "    <tr style=\"text-align: right;\">\n",
       "      <th></th>\n",
       "      <th>male</th>\n",
       "      <th>age</th>\n",
       "      <th>education</th>\n",
       "      <th>currentSmoker</th>\n",
       "      <th>cigsPerDay</th>\n",
       "      <th>BPMeds</th>\n",
       "      <th>prevalentStroke</th>\n",
       "      <th>prevalentHyp</th>\n",
       "      <th>diabetes</th>\n",
       "      <th>totChol</th>\n",
       "      <th>sysBP</th>\n",
       "      <th>diaBP</th>\n",
       "      <th>BMI</th>\n",
       "      <th>heartRate</th>\n",
       "      <th>glucose</th>\n",
       "    </tr>\n",
       "  </thead>\n",
       "  <tbody>\n",
       "    <tr>\n",
       "      <th>0</th>\n",
       "      <td>1.153192</td>\n",
       "      <td>-1.234951</td>\n",
       "      <td>1.982068</td>\n",
       "      <td>-0.988271</td>\n",
       "      <td>-0.755376</td>\n",
       "      <td>-0.174741</td>\n",
       "      <td>-0.077033</td>\n",
       "      <td>-0.671101</td>\n",
       "      <td>-0.162477</td>\n",
       "      <td>-0.935776</td>\n",
       "      <td>-1.195907</td>\n",
       "      <td>-1.082625</td>\n",
       "      <td>0.286299</td>\n",
       "      <td>0.342704</td>\n",
       "      <td>-0.207320</td>\n",
       "    </tr>\n",
       "    <tr>\n",
       "      <th>1</th>\n",
       "      <td>-0.867158</td>\n",
       "      <td>-0.418257</td>\n",
       "      <td>0.020644</td>\n",
       "      <td>-0.988271</td>\n",
       "      <td>-0.755376</td>\n",
       "      <td>-0.174741</td>\n",
       "      <td>-0.077033</td>\n",
       "      <td>-0.671101</td>\n",
       "      <td>-0.162477</td>\n",
       "      <td>0.297822</td>\n",
       "      <td>-0.515187</td>\n",
       "      <td>-0.158988</td>\n",
       "      <td>0.717711</td>\n",
       "      <td>1.590087</td>\n",
       "      <td>-0.249062</td>\n",
       "    </tr>\n",
       "    <tr>\n",
       "      <th>2</th>\n",
       "      <td>1.153192</td>\n",
       "      <td>-0.184916</td>\n",
       "      <td>-0.960068</td>\n",
       "      <td>1.011868</td>\n",
       "      <td>0.922662</td>\n",
       "      <td>-0.174741</td>\n",
       "      <td>-0.077033</td>\n",
       "      <td>-0.671101</td>\n",
       "      <td>-0.162477</td>\n",
       "      <td>0.185677</td>\n",
       "      <td>-0.220209</td>\n",
       "      <td>-0.242955</td>\n",
       "      <td>-0.113247</td>\n",
       "      <td>-0.073090</td>\n",
       "      <td>-0.499512</td>\n",
       "    </tr>\n",
       "    <tr>\n",
       "      <th>3</th>\n",
       "      <td>-0.867158</td>\n",
       "      <td>1.331800</td>\n",
       "      <td>1.001356</td>\n",
       "      <td>1.011868</td>\n",
       "      <td>1.761681</td>\n",
       "      <td>-0.174741</td>\n",
       "      <td>-0.077033</td>\n",
       "      <td>1.490089</td>\n",
       "      <td>-0.162477</td>\n",
       "      <td>-0.262904</td>\n",
       "      <td>0.800871</td>\n",
       "      <td>1.016549</td>\n",
       "      <td>0.680943</td>\n",
       "      <td>-0.904679</td>\n",
       "      <td>0.877962</td>\n",
       "    </tr>\n",
       "    <tr>\n",
       "      <th>4</th>\n",
       "      <td>-0.867158</td>\n",
       "      <td>-0.418257</td>\n",
       "      <td>1.001356</td>\n",
       "      <td>1.011868</td>\n",
       "      <td>1.174368</td>\n",
       "      <td>-0.174741</td>\n",
       "      <td>-0.077033</td>\n",
       "      <td>-0.671101</td>\n",
       "      <td>-0.162477</td>\n",
       "      <td>1.082840</td>\n",
       "      <td>-0.106755</td>\n",
       "      <td>0.092912</td>\n",
       "      <td>-0.662317</td>\n",
       "      <td>0.758498</td>\n",
       "      <td>0.126613</td>\n",
       "    </tr>\n",
       "  </tbody>\n",
       "</table>\n",
       "</div>"
      ],
      "text/plain": [
       "       male       age  education  currentSmoker  cigsPerDay    BPMeds  \\\n",
       "0  1.153192 -1.234951   1.982068      -0.988271   -0.755376 -0.174741   \n",
       "1 -0.867158 -0.418257   0.020644      -0.988271   -0.755376 -0.174741   \n",
       "2  1.153192 -0.184916  -0.960068       1.011868    0.922662 -0.174741   \n",
       "3 -0.867158  1.331800   1.001356       1.011868    1.761681 -0.174741   \n",
       "4 -0.867158 -0.418257   1.001356       1.011868    1.174368 -0.174741   \n",
       "\n",
       "   prevalentStroke  prevalentHyp  diabetes   totChol     sysBP     diaBP  \\\n",
       "0        -0.077033     -0.671101 -0.162477 -0.935776 -1.195907 -1.082625   \n",
       "1        -0.077033     -0.671101 -0.162477  0.297822 -0.515187 -0.158988   \n",
       "2        -0.077033     -0.671101 -0.162477  0.185677 -0.220209 -0.242955   \n",
       "3        -0.077033      1.490089 -0.162477 -0.262904  0.800871  1.016549   \n",
       "4        -0.077033     -0.671101 -0.162477  1.082840 -0.106755  0.092912   \n",
       "\n",
       "        BMI  heartRate   glucose  \n",
       "0  0.286299   0.342704 -0.207320  \n",
       "1  0.717711   1.590087 -0.249062  \n",
       "2 -0.113247  -0.073090 -0.499512  \n",
       "3  0.680943  -0.904679  0.877962  \n",
       "4 -0.662317   0.758498  0.126613  "
      ]
     },
     "execution_count": 53,
     "metadata": {},
     "output_type": "execute_result"
    }
   ],
   "source": [
    "df_feat = pd.DataFrame(scaled_features,columns=df.columns[:-1])\n",
    "df_feat.head()"
   ]
  },
  {
   "cell_type": "markdown",
   "id": "1fc9eedf",
   "metadata": {},
   "source": [
    "."
   ]
  },
  {
   "cell_type": "markdown",
   "id": "132d8d39",
   "metadata": {},
   "source": [
    "Now we will split our data in train and test set."
   ]
  },
  {
   "cell_type": "code",
   "execution_count": 54,
   "id": "a6ffd16b",
   "metadata": {},
   "outputs": [],
   "source": [
    "from sklearn.model_selection import train_test_split"
   ]
  },
  {
   "cell_type": "code",
   "execution_count": 55,
   "id": "f667aefe",
   "metadata": {},
   "outputs": [],
   "source": [
    "#Split the model in train and test set\n",
    "X_train2, X_test2, y_train2, y_test2 = train_test_split(scaled_features, \n",
    "                                                    df['TenYearCHD'], \n",
    "                                                    test_size=0.3, \n",
    "                                                    random_state=42)"
   ]
  },
  {
   "cell_type": "markdown",
   "id": "370559f7",
   "metadata": {},
   "source": [
    "# kNN"
   ]
  },
  {
   "cell_type": "code",
   "execution_count": 56,
   "id": "b9f3a398",
   "metadata": {},
   "outputs": [],
   "source": [
    "from sklearn.neighbors import KNeighborsClassifier\n",
    "from sklearn.impute import KNNImputer"
   ]
  },
  {
   "cell_type": "code",
   "execution_count": 57,
   "id": "ad39ac6c",
   "metadata": {},
   "outputs": [],
   "source": [
    "# Perform kNN imputation on the training and testing sets. \n",
    "# We do that because we have got Null values and we don't want to fill them and run the algorithms in the dataset\n",
    "# as it is\n",
    "\n",
    "imputer = KNNImputer(n_neighbors=1)\n",
    "X_train_imputed2 = imputer.fit_transform(X_train2)\n",
    "X_test_imputed2 = imputer.transform(X_test2)"
   ]
  },
  {
   "cell_type": "code",
   "execution_count": 58,
   "id": "0732d7cd",
   "metadata": {},
   "outputs": [],
   "source": [
    "# Initialize and train the kNN classifier.\n",
    "# We will start with k = 1\n",
    "\n",
    "knn = KNeighborsClassifier(n_neighbors=1)"
   ]
  },
  {
   "cell_type": "code",
   "execution_count": 59,
   "id": "98c6bb73",
   "metadata": {},
   "outputs": [
    {
     "data": {
      "text/html": [
       "<style>#sk-container-id-4 {color: black;background-color: white;}#sk-container-id-4 pre{padding: 0;}#sk-container-id-4 div.sk-toggleable {background-color: white;}#sk-container-id-4 label.sk-toggleable__label {cursor: pointer;display: block;width: 100%;margin-bottom: 0;padding: 0.3em;box-sizing: border-box;text-align: center;}#sk-container-id-4 label.sk-toggleable__label-arrow:before {content: \"▸\";float: left;margin-right: 0.25em;color: #696969;}#sk-container-id-4 label.sk-toggleable__label-arrow:hover:before {color: black;}#sk-container-id-4 div.sk-estimator:hover label.sk-toggleable__label-arrow:before {color: black;}#sk-container-id-4 div.sk-toggleable__content {max-height: 0;max-width: 0;overflow: hidden;text-align: left;background-color: #f0f8ff;}#sk-container-id-4 div.sk-toggleable__content pre {margin: 0.2em;color: black;border-radius: 0.25em;background-color: #f0f8ff;}#sk-container-id-4 input.sk-toggleable__control:checked~div.sk-toggleable__content {max-height: 200px;max-width: 100%;overflow: auto;}#sk-container-id-4 input.sk-toggleable__control:checked~label.sk-toggleable__label-arrow:before {content: \"▾\";}#sk-container-id-4 div.sk-estimator input.sk-toggleable__control:checked~label.sk-toggleable__label {background-color: #d4ebff;}#sk-container-id-4 div.sk-label input.sk-toggleable__control:checked~label.sk-toggleable__label {background-color: #d4ebff;}#sk-container-id-4 input.sk-hidden--visually {border: 0;clip: rect(1px 1px 1px 1px);clip: rect(1px, 1px, 1px, 1px);height: 1px;margin: -1px;overflow: hidden;padding: 0;position: absolute;width: 1px;}#sk-container-id-4 div.sk-estimator {font-family: monospace;background-color: #f0f8ff;border: 1px dotted black;border-radius: 0.25em;box-sizing: border-box;margin-bottom: 0.5em;}#sk-container-id-4 div.sk-estimator:hover {background-color: #d4ebff;}#sk-container-id-4 div.sk-parallel-item::after {content: \"\";width: 100%;border-bottom: 1px solid gray;flex-grow: 1;}#sk-container-id-4 div.sk-label:hover label.sk-toggleable__label {background-color: #d4ebff;}#sk-container-id-4 div.sk-serial::before {content: \"\";position: absolute;border-left: 1px solid gray;box-sizing: border-box;top: 0;bottom: 0;left: 50%;z-index: 0;}#sk-container-id-4 div.sk-serial {display: flex;flex-direction: column;align-items: center;background-color: white;padding-right: 0.2em;padding-left: 0.2em;position: relative;}#sk-container-id-4 div.sk-item {position: relative;z-index: 1;}#sk-container-id-4 div.sk-parallel {display: flex;align-items: stretch;justify-content: center;background-color: white;position: relative;}#sk-container-id-4 div.sk-item::before, #sk-container-id-4 div.sk-parallel-item::before {content: \"\";position: absolute;border-left: 1px solid gray;box-sizing: border-box;top: 0;bottom: 0;left: 50%;z-index: -1;}#sk-container-id-4 div.sk-parallel-item {display: flex;flex-direction: column;z-index: 1;position: relative;background-color: white;}#sk-container-id-4 div.sk-parallel-item:first-child::after {align-self: flex-end;width: 50%;}#sk-container-id-4 div.sk-parallel-item:last-child::after {align-self: flex-start;width: 50%;}#sk-container-id-4 div.sk-parallel-item:only-child::after {width: 0;}#sk-container-id-4 div.sk-dashed-wrapped {border: 1px dashed gray;margin: 0 0.4em 0.5em 0.4em;box-sizing: border-box;padding-bottom: 0.4em;background-color: white;}#sk-container-id-4 div.sk-label label {font-family: monospace;font-weight: bold;display: inline-block;line-height: 1.2em;}#sk-container-id-4 div.sk-label-container {text-align: center;}#sk-container-id-4 div.sk-container {/* jupyter's `normalize.less` sets `[hidden] { display: none; }` but bootstrap.min.css set `[hidden] { display: none !important; }` so we also need the `!important` here to be able to override the default hidden behavior on the sphinx rendered scikit-learn.org. See: https://github.com/scikit-learn/scikit-learn/issues/21755 */display: inline-block !important;position: relative;}#sk-container-id-4 div.sk-text-repr-fallback {display: none;}</style><div id=\"sk-container-id-4\" class=\"sk-top-container\"><div class=\"sk-text-repr-fallback\"><pre>KNeighborsClassifier(n_neighbors=1)</pre><b>In a Jupyter environment, please rerun this cell to show the HTML representation or trust the notebook. <br />On GitHub, the HTML representation is unable to render, please try loading this page with nbviewer.org.</b></div><div class=\"sk-container\" hidden><div class=\"sk-item\"><div class=\"sk-estimator sk-toggleable\"><input class=\"sk-toggleable__control sk-hidden--visually\" id=\"sk-estimator-id-4\" type=\"checkbox\" checked><label for=\"sk-estimator-id-4\" class=\"sk-toggleable__label sk-toggleable__label-arrow\">KNeighborsClassifier</label><div class=\"sk-toggleable__content\"><pre>KNeighborsClassifier(n_neighbors=1)</pre></div></div></div></div></div>"
      ],
      "text/plain": [
       "KNeighborsClassifier(n_neighbors=1)"
      ]
     },
     "execution_count": 59,
     "metadata": {},
     "output_type": "execute_result"
    }
   ],
   "source": [
    "#Fit our Model\n",
    "\n",
    "knn.fit(X_train_imputed2,y_train2) "
   ]
  },
  {
   "cell_type": "code",
   "execution_count": 60,
   "id": "e14d9ed7",
   "metadata": {},
   "outputs": [],
   "source": [
    "pred = knn.predict(X_test_imputed2)"
   ]
  },
  {
   "cell_type": "markdown",
   "id": "eeafa217",
   "metadata": {},
   "source": [
    "Predictions and Evaluations"
   ]
  },
  {
   "cell_type": "code",
   "execution_count": 61,
   "id": "7472720f",
   "metadata": {},
   "outputs": [],
   "source": [
    "from sklearn.metrics import classification_report,confusion_matrix, accuracy_score"
   ]
  },
  {
   "cell_type": "code",
   "execution_count": 62,
   "id": "362c4053",
   "metadata": {},
   "outputs": [
    {
     "name": "stdout",
     "output_type": "stream",
     "text": [
      "[[942 142]\n",
      " [147  41]]\n"
     ]
    }
   ],
   "source": [
    "print(confusion_matrix(y_test2,pred))  # Print confusion matrix to define the performance of a classification algorithm"
   ]
  },
  {
   "cell_type": "code",
   "execution_count": 63,
   "id": "f7959c55",
   "metadata": {},
   "outputs": [
    {
     "name": "stdout",
     "output_type": "stream",
     "text": [
      "              precision    recall  f1-score   support\n",
      "\n",
      "           0       0.87      0.87      0.87      1084\n",
      "           1       0.22      0.22      0.22       188\n",
      "\n",
      "    accuracy                           0.77      1272\n",
      "   macro avg       0.54      0.54      0.54      1272\n",
      "weighted avg       0.77      0.77      0.77      1272\n",
      "\n"
     ]
    }
   ],
   "source": [
    "print(classification_report(y_test2,pred))"
   ]
  },
  {
   "cell_type": "code",
   "execution_count": 64,
   "id": "a1f9008f",
   "metadata": {},
   "outputs": [
    {
     "name": "stdout",
     "output_type": "stream",
     "text": [
      "0.7727987421383647\n"
     ]
    }
   ],
   "source": [
    "# Measure the model performance of all the predictions made\n",
    "\n",
    "print(accuracy_score(y_test2,pred))"
   ]
  },
  {
   "cell_type": "markdown",
   "id": "30290260",
   "metadata": {},
   "source": [
    "# Let's see if we can pick a good value for k, using elbow method"
   ]
  },
  {
   "cell_type": "code",
   "execution_count": 65,
   "id": "bef268cc",
   "metadata": {},
   "outputs": [],
   "source": [
    "# use the elbow method to pick a good K Value\n",
    "import numpy as np\n",
    "\n",
    "error_rate = []\n",
    "\n",
    "\n",
    "for i in range(1,40):\n",
    "    \n",
    "    knn = KNeighborsClassifier(n_neighbors=i)\n",
    "    knn.fit(X_train_imputed2,y_train2)\n",
    "    pred_i = knn.predict(X_test_imputed2)\n",
    "    error_rate.append(np.mean(pred_i != y_test2))"
   ]
  },
  {
   "cell_type": "code",
   "execution_count": 66,
   "id": "a35edc6a",
   "metadata": {},
   "outputs": [
    {
     "data": {
      "text/plain": [
       "Text(0, 0.5, 'Error Rate')"
      ]
     },
     "execution_count": 66,
     "metadata": {},
     "output_type": "execute_result"
    },
    {
     "data": {
      "image/png": "[encoded data removed]",
      "text/plain": [
       "<Figure size 900x500 with 1 Axes>"
      ]
     },
     "metadata": {},
     "output_type": "display_data"
    }
   ],
   "source": [
    "# Plot error rate vs k \n",
    "plt.figure(figsize=(9,5))\n",
    "plt.plot(range(1,40),error_rate,color='blue', linestyle='dashed', marker='o',\n",
    "         markerfacecolor='red', markersize=10)\n",
    "plt.title('Error Rate vs. K Value')\n",
    "plt.xlabel('K')\n",
    "plt.ylabel('Error Rate')"
   ]
  },
  {
   "cell_type": "markdown",
   "id": "e748d03f",
   "metadata": {},
   "source": [
    "Here we can see that that after k>14 the error rate just tends to hover around 0.15-0.08.\n",
    "Let's retrain the model with lowest k values, and check the classification report!"
   ]
  },
  {
   "cell_type": "code",
   "execution_count": 67,
   "id": "fc13d6f2",
   "metadata": {},
   "outputs": [
    {
     "name": "stdout",
     "output_type": "stream",
     "text": [
      "WITH K=1\n",
      "\n",
      "\n",
      "[[942 142]\n",
      " [147  41]]\n",
      "\n",
      "\n",
      "              precision    recall  f1-score   support\n",
      "\n",
      "           0       0.87      0.87      0.87      1084\n",
      "           1       0.22      0.22      0.22       188\n",
      "\n",
      "    accuracy                           0.77      1272\n",
      "   macro avg       0.54      0.54      0.54      1272\n",
      "weighted avg       0.77      0.77      0.77      1272\n",
      "\n",
      "\n",
      "\n",
      "0.7727987421383647\n"
     ]
    }
   ],
   "source": [
    "# FIRST A QUICK COMPARISON TO OUR ORIGINAL K=1\n",
    "knn = KNeighborsClassifier(n_neighbors=1)\n",
    "\n",
    "knn.fit(X_train_imputed2,y_train2)\n",
    "pred = knn.predict(X_test_imputed2)\n",
    "\n",
    "print('WITH K=1')\n",
    "print('\\n')\n",
    "print(confusion_matrix(y_test2,pred))\n",
    "print('\\n')\n",
    "print(classification_report(y_test2,pred))\n",
    "print('\\n')\n",
    "print(accuracy_score(y_test2,pred))"
   ]
  },
  {
   "cell_type": "code",
   "execution_count": 75,
   "id": "2087fcbf",
   "metadata": {},
   "outputs": [
    {
     "name": "stdout",
     "output_type": "stream",
     "text": [
      "WITH K=19\n",
      "\n",
      "\n",
      "[[1079    5]\n",
      " [ 181    7]]\n",
      "\n",
      "\n",
      "              precision    recall  f1-score   support\n",
      "\n",
      "           0       0.86      1.00      0.92      1084\n",
      "           1       0.58      0.04      0.07       188\n",
      "\n",
      "    accuracy                           0.85      1272\n",
      "   macro avg       0.72      0.52      0.50      1272\n",
      "weighted avg       0.82      0.85      0.79      1272\n",
      "\n",
      "\n",
      "\n",
      "0.8537735849056604\n"
     ]
    }
   ],
   "source": [
    "#Now for k = 19 (for k =17 we got the same results)\n",
    "knn = KNeighborsClassifier(n_neighbors=19)\n",
    "\n",
    "knn.fit(X_train_imputed2,y_train2)\n",
    "pred = knn.predict(X_test_imputed2)\n",
    "\n",
    "print('WITH K=19')\n",
    "print('\\n')\n",
    "print(confusion_matrix(y_test2,pred))\n",
    "print('\\n')\n",
    "print(classification_report(y_test2,pred))\n",
    "print('\\n')\n",
    "knn_accuracy = accuracy_score(y_test2,pred)\n",
    "print(knn_accuracy)"
   ]
  },
  {
   "cell_type": "markdown",
   "id": "edc7c5ee",
   "metadata": {},
   "source": [
    "For k = 19 and for k = 17, the Final kNN Accuracy it's the same."
   ]
  },
  {
   "cell_type": "markdown",
   "id": "35048a56",
   "metadata": {},
   "source": [
    "."
   ]
  },
  {
   "cell_type": "markdown",
   "id": "a6e5ebfa",
   "metadata": {},
   "source": [
    "# So we can see the Final predictions from Logistic Regression and kNN algorithm"
   ]
  },
  {
   "cell_type": "code",
   "execution_count": 76,
   "id": "85628171",
   "metadata": {},
   "outputs": [
    {
     "name": "stdout",
     "output_type": "stream",
     "text": [
      "Accuracy Score for kNN algorithm (k=19) =  0.8537735849056604\n",
      "\n",
      "\n",
      "Accuracy Score for Logistic Regression = 0.8632075471698113\n"
     ]
    }
   ],
   "source": [
    "print('Accuracy Score for kNN algorithm (k=19) = ', knn_accuracy)\n",
    "print('\\n')\n",
    "print('Accuracy Score for Logistic Regression =', logistic_regression_accuracy)"
   ]
  },
  {
   "cell_type": "markdown",
   "id": "fa0d5a0e",
   "metadata": {},
   "source": [
    "."
   ]
  },
  {
   "cell_type": "code",
   "execution_count": 77,
   "id": "e68af81d",
   "metadata": {},
   "outputs": [
    {
     "data": {
      "image/png": "[encoded data removed]",
      "text/plain": [
       "<Figure size 640x480 with 1 Axes>"
      ]
     },
     "metadata": {},
     "output_type": "display_data"
    }
   ],
   "source": [
    "# Plot the comparison of Accuracy scores\n",
    "accuracy_scores = [logistic_regression_accuracy, knn_accuracy]\n",
    "models = ['Logistic Regression', 'kNN']\n",
    "\n",
    "plt.plot(models, accuracy_scores, marker='o')\n",
    "plt.xlabel('Models')\n",
    "plt.ylabel('Accuracy Score')\n",
    "plt.title('Comparison of Accuracy Scores')\n",
    "plt.ylim(0, 1.0)  # Set the y-axis limits between 0 and 1\n",
    "plt.show()"
   ]
  },
  {
   "cell_type": "markdown",
   "id": "a12be553",
   "metadata": {},
   "source": [
    "."
   ]
  },
  {
   "cell_type": "markdown",
   "id": "af95cf86",
   "metadata": {},
   "source": [
    "."
   ]
  },
  {
   "cell_type": "markdown",
   "id": "4ff6c694",
   "metadata": {},
   "source": [
    "So we can see from the two final results that logistic regression has a better prediction rate than kNN, in the specific dataset"
   ]
  },
  {
   "cell_type": "markdown",
   "id": "a2d26733",
   "metadata": {},
   "source": [
    "."
   ]
  },
  {
   "cell_type": "markdown",
   "id": "3ac2596b",
   "metadata": {},
   "source": [
    "."
   ]
  },
  {
   "cell_type": "markdown",
   "id": "dca83019",
   "metadata": {},
   "source": [
    "."
   ]
  },
  {
   "cell_type": "markdown",
   "id": "fd76b4de",
   "metadata": {},
   "source": [
    "# Measuring algorithm execution times by growing the dataset"
   ]
  },
  {
   "cell_type": "markdown",
   "id": "89228946",
   "metadata": {},
   "source": [
    "We will import again the same dataset, in different Dataframe, and Duplicate the Dataset by 30 times"
   ]
  },
  {
   "cell_type": "code",
   "execution_count": 79,
   "id": "33cc1613",
   "metadata": {},
   "outputs": [],
   "source": [
    "dataset = pd.read_csv(\"dataset.csv\")"
   ]
  },
  {
   "cell_type": "code",
   "execution_count": 80,
   "id": "8ba60a2a",
   "metadata": {},
   "outputs": [],
   "source": [
    "bigdata = pd.concat([dataset] * 30, ignore_index=True)"
   ]
  },
  {
   "cell_type": "code",
   "execution_count": 81,
   "id": "e44356d8",
   "metadata": {},
   "outputs": [
    {
     "data": {
      "text/plain": [
       "(127140, 16)"
      ]
     },
     "execution_count": 81,
     "metadata": {},
     "output_type": "execute_result"
    }
   ],
   "source": [
    "#The bigdata variable, now contains the original dataset repeated 30 times.\n",
    "bigdata.shape  "
   ]
  },
  {
   "cell_type": "code",
   "execution_count": 82,
   "id": "79716a5b",
   "metadata": {},
   "outputs": [],
   "source": [
    "# To measure the execution time for the two algorithms (logistic regression and kNN), \n",
    "# we will use the 'time' module in Python.\n",
    "import time"
   ]
  },
  {
   "cell_type": "code",
   "execution_count": 83,
   "id": "bf8e1584",
   "metadata": {},
   "outputs": [],
   "source": [
    "# And now in the same way that we ran the algorithms above, \n",
    "# this is how we will do and now, we will simply count the time as well."
   ]
  },
  {
   "cell_type": "code",
   "execution_count": 57,
   "id": "d5ac591f",
   "metadata": {},
   "outputs": [],
   "source": [
    "# Logistic Regression Model #\n",
    "# y is the value we want to make the prediction\n",
    "start_time = time.time()\n",
    "X2 = bigdata.drop('TenYearCHD',axis=1)\n",
    "y2 = bigdata['TenYearCHD']\n",
    "X2_train, X2_test, y2_train, y2_test = train_test_split(X2, y2, test_size=0.3, random_state=101) \n",
    "X2_train_imputed = imputer.fit_transform(X2_train)\n",
    "X2_test_imputed = imputer.transform(X2_test)\n",
    "log2 = LogisticRegression(max_iter=1000,solver='liblinear') \n",
    "\n",
    "# Execution time\n",
    "#start_time = time.time()\n",
    "log.fit(X2_train_imputed,y2_train)\n",
    "end_time = time.time()\n",
    "\n",
    "log_reg_time = end_time - start_time"
   ]
  },
  {
   "cell_type": "code",
   "execution_count": 59,
   "id": "fb282a7d",
   "metadata": {},
   "outputs": [],
   "source": [
    "# kNN Algorithm #\n",
    "start_time2 = time.time()\n",
    "scaler2 = StandardScaler() \n",
    "scaler2.fit(bigdata.drop('TenYearCHD',axis=1))\n",
    "\n",
    "scaled_features2 = scaler2.transform(bigdata.drop('TenYearCHD',axis=1)) \n",
    "bigdata_feat = pd.DataFrame(scaled_features2,columns=bigdata.columns[:-1])\n",
    "\n",
    "X2_train2, X2_test2, y2_train2, y2_test2 = train_test_split(scaled_features2, \n",
    "                                                    bigdata['TenYearCHD'], \n",
    "                                                    test_size=0.3, \n",
    "                                                    random_state=42)\n",
    "imputer2 = KNNImputer(n_neighbors=1)\n",
    "X2_train_imputed2 = imputer2.fit_transform(X2_train2)\n",
    "X2_test_imputed2 = imputer2.transform(X2_test2)\n",
    "\n",
    "# kNN\n",
    "knn2 = KNeighborsClassifier(n_neighbors=1)\n",
    "\n",
    "# Execute Time\n",
    "#start_time = time.time()\n",
    "knn2.fit(X2_train_imputed2,y2_train2) \n",
    "end_time2 = time.time()\n",
    "\n",
    "knn_time = end_time2 - start_time2"
   ]
  },
  {
   "cell_type": "code",
   "execution_count": 60,
   "id": "19e4aca9",
   "metadata": {},
   "outputs": [
    {
     "name": "stdout",
     "output_type": "stream",
     "text": [
      "Logistic Regression Time: 175.0696198940277\n",
      "kNN Time: 173.66072177886963\n"
     ]
    }
   ],
   "source": [
    "# Print the execution times\n",
    "print(\"Logistic Regression Time:\", log_reg_time)\n",
    "print(\"kNN Time:\", knn_time)"
   ]
  },
  {
   "cell_type": "markdown",
   "id": "39bfd3a2",
   "metadata": {},
   "source": [
    "As we can see both algorithms take the same time to complete, about 3 minutes. \n",
    "\n",
    "With a few seconds faster kNN from Logistic Regression algorithm.\n",
    "\n",
    "But the difference is minimal where it doesn't give us any engine of choice due to speed."
   ]
  },
  {
   "cell_type": "markdown",
   "id": "770cbdd8",
   "metadata": {},
   "source": [
    "."
   ]
  },
  {
   "cell_type": "markdown",
   "id": "d29dcecd",
   "metadata": {},
   "source": [
    "."
   ]
  },
  {
   "cell_type": "markdown",
   "id": "bc204742",
   "metadata": {},
   "source": [
    "# Any help or source for codes and methodologies, i needed, i used:              \n",
    "- Articles from Medium site\n",
    "- Stack Overflow \n",
    "- Udemy Course ''Python for Data Science and Machine Learning Bootcamp''."
   ]
  }
 ],
 "metadata": {
  "kernelspec": {
   "display_name": "Python 3 (ipykernel)",
   "language": "python",
   "name": "python3"
  },
  "language_info": {
   "codemirror_mode": {
    "name": "ipython",
    "version": 3
   },
   "file_extension": ".py",
   "mimetype": "text/x-python",
   "name": "python",
   "nbconvert_exporter": "python",
   "pygments_lexer": "ipython3",
   "version": "3.10.9"
  }
 },
 "nbformat": 4,
 "nbformat_minor": 5
}
